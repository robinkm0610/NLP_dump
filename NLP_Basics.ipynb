{
  "nbformat": 4,
  "nbformat_minor": 0,
  "metadata": {
    "colab": {
      "provenance": [],
      "authorship_tag": "ABX9TyPEoTeY9H5cg3lUw6zzk2cf",
      "include_colab_link": true
    },
    "kernelspec": {
      "name": "python3",
      "display_name": "Python 3"
    },
    "language_info": {
      "name": "python"
    }
  },
  "cells": [
    {
      "cell_type": "markdown",
      "metadata": {
        "id": "view-in-github",
        "colab_type": "text"
      },
      "source": [
        "<a href=\"https://colab.research.google.com/github/robinkm0610/NLP_dump/blob/main/NLP_Basics.ipynb\" target=\"_parent\"><img src=\"https://colab.research.google.com/assets/colab-badge.svg\" alt=\"Open In Colab\"/></a>"
      ]
    },
    {
      "cell_type": "markdown",
      "source": [
        "## Tokenization\n"
      ],
      "metadata": {
        "id": "5ENKzOlVmB3X"
      }
    },
    {
      "cell_type": "markdown",
      "source": [
        "### Document.\n",
        "\n",
        "We’ll be using a text narrated by Steve Jobs in the “Think Different” Apple commercial."
      ],
      "metadata": {
        "id": "_7wPdqROmI8Q"
      }
    },
    {
      "cell_type": "code",
      "execution_count": 1,
      "metadata": {
        "id": "iQzdEojXR9uo"
      },
      "outputs": [],
      "source": [
        "text = \"\"\"Here’s to the crazy ones, the misfits, the rebels, the troublemakers,\n",
        "the round pegs in the square holes. The ones who see things differently — they’re not fond of\n",
        "rules. You can quote them, disagree with them, glorify\n",
        "or vilify them, but the only thing you can’t do is ignore them because they\n",
        "change things. They push the human race forward, and while some may see them\n",
        "as the crazy ones, we see genius, because the ones who are crazy enough to think\n",
        "that they can change the world, are the ones who do.\"\"\""
      ]
    },
    {
      "cell_type": "markdown",
      "source": [
        "###1. Simple tokenization with .split\n",
        "\n"
      ],
      "metadata": {
        "id": "l_wYh6IKmfy5"
      }
    },
    {
      "cell_type": "code",
      "source": [
        "\n",
        "# word tokenization\n",
        "text.split()\n",
        "# sentence tokenizer\n",
        "# text.split('.') #splitting sentence by sentence"
      ],
      "metadata": {
        "colab": {
          "base_uri": "https://localhost:8080/"
        },
        "id": "HiOX-pjVmYNY",
        "outputId": "3b191049-b765-407a-f9cc-c6e77ebcdcdd"
      },
      "execution_count": 2,
      "outputs": [
        {
          "output_type": "execute_result",
          "data": {
            "text/plain": [
              "['Here’s',\n",
              " 'to',\n",
              " 'the',\n",
              " 'crazy',\n",
              " 'ones,',\n",
              " 'the',\n",
              " 'misfits,',\n",
              " 'the',\n",
              " 'rebels,',\n",
              " 'the',\n",
              " 'troublemakers,',\n",
              " 'the',\n",
              " 'round',\n",
              " 'pegs',\n",
              " 'in',\n",
              " 'the',\n",
              " 'square',\n",
              " 'holes.',\n",
              " 'The',\n",
              " 'ones',\n",
              " 'who',\n",
              " 'see',\n",
              " 'things',\n",
              " 'differently',\n",
              " '—',\n",
              " 'they’re',\n",
              " 'not',\n",
              " 'fond',\n",
              " 'of',\n",
              " 'rules.',\n",
              " 'You',\n",
              " 'can',\n",
              " 'quote',\n",
              " 'them,',\n",
              " 'disagree',\n",
              " 'with',\n",
              " 'them,',\n",
              " 'glorify',\n",
              " 'or',\n",
              " 'vilify',\n",
              " 'them,',\n",
              " 'but',\n",
              " 'the',\n",
              " 'only',\n",
              " 'thing',\n",
              " 'you',\n",
              " 'can’t',\n",
              " 'do',\n",
              " 'is',\n",
              " 'ignore',\n",
              " 'them',\n",
              " 'because',\n",
              " 'they',\n",
              " 'change',\n",
              " 'things.',\n",
              " 'They',\n",
              " 'push',\n",
              " 'the',\n",
              " 'human',\n",
              " 'race',\n",
              " 'forward,',\n",
              " 'and',\n",
              " 'while',\n",
              " 'some',\n",
              " 'may',\n",
              " 'see',\n",
              " 'them',\n",
              " 'as',\n",
              " 'the',\n",
              " 'crazy',\n",
              " 'ones,',\n",
              " 'we',\n",
              " 'see',\n",
              " 'genius,',\n",
              " 'because',\n",
              " 'the',\n",
              " 'ones',\n",
              " 'who',\n",
              " 'are',\n",
              " 'crazy',\n",
              " 'enough',\n",
              " 'to',\n",
              " 'think',\n",
              " 'that',\n",
              " 'they',\n",
              " 'can',\n",
              " 'change',\n",
              " 'the',\n",
              " 'world,',\n",
              " 'are',\n",
              " 'the',\n",
              " 'ones',\n",
              " 'who',\n",
              " 'do.']"
            ]
          },
          "metadata": {},
          "execution_count": 2
        }
      ]
    },
    {
      "cell_type": "markdown",
      "source": [
        "## 2. Tokenization with **NLTK**"
      ],
      "metadata": {
        "id": "gE9FCKC7niaF"
      }
    },
    {
      "cell_type": "markdown",
      "source": [
        "NLTK stands for Natural Language Toolkit. This is a suite of libraries and programs for statistical natural language processing for English written in Python.\n",
        "\n",
        "NLTK contains a module called ***tokenize*** with a ***word_tokenize()*** method that will help us split a text into tokens. Once you installed NLTK, you can write the following code to tokenize text."
      ],
      "metadata": {
        "id": "K2nOVaOxnmFT"
      }
    },
    {
      "cell_type": "code",
      "source": [
        "!pip install nltk"
      ],
      "metadata": {
        "colab": {
          "base_uri": "https://localhost:8080/"
        },
        "id": "f-v72517mmFb",
        "outputId": "8119ad28-5828-403a-f7d6-3f6a2e30b275"
      },
      "execution_count": 3,
      "outputs": [
        {
          "output_type": "stream",
          "name": "stdout",
          "text": [
            "Requirement already satisfied: nltk in /usr/local/lib/python3.10/dist-packages (3.8.1)\n",
            "Requirement already satisfied: click in /usr/local/lib/python3.10/dist-packages (from nltk) (8.1.7)\n",
            "Requirement already satisfied: joblib in /usr/local/lib/python3.10/dist-packages (from nltk) (1.3.2)\n",
            "Requirement already satisfied: regex>=2021.8.3 in /usr/local/lib/python3.10/dist-packages (from nltk) (2023.6.3)\n",
            "Requirement already satisfied: tqdm in /usr/local/lib/python3.10/dist-packages (from nltk) (4.66.1)\n"
          ]
        }
      ]
    },
    {
      "cell_type": "code",
      "source": [
        "import nltk\n",
        "nltk.download('punkt')\n",
        "from nltk.tokenize import word_tokenize\n",
        "\n",
        "word_tokenize(text)"
      ],
      "metadata": {
        "colab": {
          "base_uri": "https://localhost:8080/"
        },
        "id": "Wc3qH26OoaT9",
        "outputId": "df6b8c2b-997e-40a0-9eef-4d41bc121bdb"
      },
      "execution_count": 4,
      "outputs": [
        {
          "output_type": "stream",
          "name": "stderr",
          "text": [
            "[nltk_data] Downloading package punkt to /root/nltk_data...\n",
            "[nltk_data]   Unzipping tokenizers/punkt.zip.\n"
          ]
        },
        {
          "output_type": "execute_result",
          "data": {
            "text/plain": [
              "['Here',\n",
              " '’',\n",
              " 's',\n",
              " 'to',\n",
              " 'the',\n",
              " 'crazy',\n",
              " 'ones',\n",
              " ',',\n",
              " 'the',\n",
              " 'misfits',\n",
              " ',',\n",
              " 'the',\n",
              " 'rebels',\n",
              " ',',\n",
              " 'the',\n",
              " 'troublemakers',\n",
              " ',',\n",
              " 'the',\n",
              " 'round',\n",
              " 'pegs',\n",
              " 'in',\n",
              " 'the',\n",
              " 'square',\n",
              " 'holes',\n",
              " '.',\n",
              " 'The',\n",
              " 'ones',\n",
              " 'who',\n",
              " 'see',\n",
              " 'things',\n",
              " 'differently',\n",
              " '—',\n",
              " 'they',\n",
              " '’',\n",
              " 're',\n",
              " 'not',\n",
              " 'fond',\n",
              " 'of',\n",
              " 'rules',\n",
              " '.',\n",
              " 'You',\n",
              " 'can',\n",
              " 'quote',\n",
              " 'them',\n",
              " ',',\n",
              " 'disagree',\n",
              " 'with',\n",
              " 'them',\n",
              " ',',\n",
              " 'glorify',\n",
              " 'or',\n",
              " 'vilify',\n",
              " 'them',\n",
              " ',',\n",
              " 'but',\n",
              " 'the',\n",
              " 'only',\n",
              " 'thing',\n",
              " 'you',\n",
              " 'can',\n",
              " '’',\n",
              " 't',\n",
              " 'do',\n",
              " 'is',\n",
              " 'ignore',\n",
              " 'them',\n",
              " 'because',\n",
              " 'they',\n",
              " 'change',\n",
              " 'things',\n",
              " '.',\n",
              " 'They',\n",
              " 'push',\n",
              " 'the',\n",
              " 'human',\n",
              " 'race',\n",
              " 'forward',\n",
              " ',',\n",
              " 'and',\n",
              " 'while',\n",
              " 'some',\n",
              " 'may',\n",
              " 'see',\n",
              " 'them',\n",
              " 'as',\n",
              " 'the',\n",
              " 'crazy',\n",
              " 'ones',\n",
              " ',',\n",
              " 'we',\n",
              " 'see',\n",
              " 'genius',\n",
              " ',',\n",
              " 'because',\n",
              " 'the',\n",
              " 'ones',\n",
              " 'who',\n",
              " 'are',\n",
              " 'crazy',\n",
              " 'enough',\n",
              " 'to',\n",
              " 'think',\n",
              " 'that',\n",
              " 'they',\n",
              " 'can',\n",
              " 'change',\n",
              " 'the',\n",
              " 'world',\n",
              " ',',\n",
              " 'are',\n",
              " 'the',\n",
              " 'ones',\n",
              " 'who',\n",
              " 'do',\n",
              " '.']"
            ]
          },
          "metadata": {},
          "execution_count": 4
        }
      ]
    },
    {
      "cell_type": "code",
      "source": [
        "from nltk.tokenize import sent_tokenize\n",
        "sent_tokenize(text)"
      ],
      "metadata": {
        "colab": {
          "base_uri": "https://localhost:8080/"
        },
        "id": "0vdz-abyomzT",
        "outputId": "d68f09d4-7bb1-401c-9055-c107f5927c4c"
      },
      "execution_count": 5,
      "outputs": [
        {
          "output_type": "execute_result",
          "data": {
            "text/plain": [
              "['Here’s to the crazy ones, the misfits, the rebels, the troublemakers, \\nthe round pegs in the square holes.',\n",
              " 'The ones who see things differently — they’re not fond of \\nrules.',\n",
              " 'You can quote them, disagree with them, glorify\\nor vilify them, but the only thing you can’t do is ignore them because they\\nchange things.',\n",
              " 'They push the human race forward, and while some may see them\\nas the crazy ones, we see genius, because the ones who are crazy enough to think\\nthat they can change the world, are the ones who do.']"
            ]
          },
          "metadata": {},
          "execution_count": 5
        }
      ]
    },
    {
      "cell_type": "markdown",
      "source": [
        "## 3. Tokenize text in different languages with **spaCy**"
      ],
      "metadata": {
        "id": "Cq6TsqjZo8xy"
      }
    },
    {
      "cell_type": "markdown",
      "source": [
        "When you need to tokenize text written in a language other than English, you can use spaCy. This is a library for advanced natural language processing, written in Python and Cython, that supports tokenization for more than 65 languages.\n",
        "\n",
        "Let’s tokenize the same Steve Jobs text but now translated in Spanish."
      ],
      "metadata": {
        "id": "JFr6Aq_uqOnR"
      }
    },
    {
      "cell_type": "markdown",
      "source": [
        "It considers punctuation as a token"
      ],
      "metadata": {
        "id": "0EnTR9LZqSVp"
      }
    },
    {
      "cell_type": "code",
      "source": [
        "\n",
        "text_spanish = \"\"\"Por los locos. Los marginados. Los rebeldes. Los problematicos.\n",
        "Los inadaptados. Los que ven las cosas de una manera distinta. A los que no les gustan\n",
        "las reglas. Y a los que no respetan el “status quo”. Puedes citarlos, discrepar de ellos,\n",
        "ensalzarlos o vilipendiarlos. Pero lo que no puedes hacer es ignorarlos… Porque ellos\n",
        "cambian las cosas, empujan hacia adelante la raza humana y, aunque algunos puedan\n",
        "considerarlos locos, nosotros vemos en ellos a genios. Porque las personas que están\n",
        "lo bastante locas como para creer que pueden cambiar el mundo, son las que lo logran.\"\"\""
      ],
      "metadata": {
        "id": "PC6HWAc7stnX"
      },
      "execution_count": 6,
      "outputs": []
    },
    {
      "cell_type": "code",
      "source": [
        "from spacy.lang.es import Spanish\n",
        "spac = Spanish()\n",
        "\n",
        "doc = spac(text_spanish)\n",
        "tokens = [token.text for token in doc]\n",
        "print(tokens)"
      ],
      "metadata": {
        "colab": {
          "base_uri": "https://localhost:8080/"
        },
        "id": "qAuTFBe_sxA8",
        "outputId": "9eb2a0cf-2f13-497d-c11c-af5ee3ce3d8a"
      },
      "execution_count": 7,
      "outputs": [
        {
          "output_type": "stream",
          "name": "stdout",
          "text": [
            "['Por', 'los', 'locos', '.', 'Los', 'marginados', '.', 'Los', 'rebeldes', '.', 'Los', 'problematicos', '.', '\\n', 'Los', 'inadaptados', '.', 'Los', 'que', 'ven', 'las', 'cosas', 'de', 'una', 'manera', 'distinta', '.', 'A', 'los', 'que', 'no', 'les', 'gustan', '\\n', 'las', 'reglas', '.', 'Y', 'a', 'los', 'que', 'no', 'respetan', 'el', '“', 'status', 'quo', '”', '.', 'Puedes', 'citarlos', ',', 'discrepar', 'de', 'ellos', ',', '\\n', 'ensalzarlos', 'o', 'vilipendiarlos', '.', 'Pero', 'lo', 'que', 'no', 'puedes', 'hacer', 'es', 'ignorarlos', '…', 'Porque', 'ellos', '\\n', 'cambian', 'las', 'cosas', ',', 'empujan', 'hacia', 'adelante', 'la', 'raza', 'humana', 'y', ',', 'aunque', 'algunos', 'puedan', '\\n', 'considerarlos', 'locos', ',', 'nosotros', 'vemos', 'en', 'ellos', 'a', 'genios', '.', 'Porque', 'las', 'personas', 'que', 'están', '\\n', 'lo', 'bastante', 'locas', 'como', 'para', 'creer', 'que', 'pueden', 'cambiar', 'el', 'mundo', ',', 'son', 'las', 'que', 'lo', 'logran', '.']\n"
          ]
        }
      ]
    },
    {
      "cell_type": "markdown",
      "source": [
        "## 4. Tokenization with **Gensim**\n",
        "\n",
        "Gensim(Generate Similar) is a library for unsupervised topic modeling and natural language processing and also contains a tokenizer. Once you install Gensim, tokenizing text will be as simple as writing the following code.\n",
        "\n",
        "Gensim is quite strict with punctuation. It splits whenever a punctuation is encountered."
      ],
      "metadata": {
        "id": "GZqzniP5wd6q"
      }
    },
    {
      "cell_type": "code",
      "source": [
        "from gensim.utils import tokenize\n",
        "#word tokenization\n",
        "print(list(tokenize(text)))"
      ],
      "metadata": {
        "colab": {
          "base_uri": "https://localhost:8080/"
        },
        "id": "LoRwyN10wisw",
        "outputId": "0646ca38-c81f-4199-cd77-ec35f739754b"
      },
      "execution_count": 10,
      "outputs": [
        {
          "output_type": "stream",
          "name": "stdout",
          "text": [
            "['Here', 's', 'to', 'the', 'crazy', 'ones', 'the', 'misfits', 'the', 'rebels', 'the', 'troublemakers', 'the', 'round', 'pegs', 'in', 'the', 'square', 'holes', 'The', 'ones', 'who', 'see', 'things', 'differently', 'they', 're', 'not', 'fond', 'of', 'rules', 'You', 'can', 'quote', 'them', 'disagree', 'with', 'them', 'glorify', 'or', 'vilify', 'them', 'but', 'the', 'only', 'thing', 'you', 'can', 't', 'do', 'is', 'ignore', 'them', 'because', 'they', 'change', 'things', 'They', 'push', 'the', 'human', 'race', 'forward', 'and', 'while', 'some', 'may', 'see', 'them', 'as', 'the', 'crazy', 'ones', 'we', 'see', 'genius', 'because', 'the', 'ones', 'who', 'are', 'crazy', 'enough', 'to', 'think', 'that', 'they', 'can', 'change', 'the', 'world', 'are', 'the', 'ones', 'who', 'do']\n"
          ]
        }
      ]
    },
    {
      "cell_type": "markdown",
      "source": [
        "#**Stop Words**"
      ],
      "metadata": {
        "id": "qgvsmRJ3LpKH"
      }
    },
    {
      "cell_type": "markdown",
      "source": [
        "Stop words are a set of commonly used words in a language. Examples of stop words in English are “a”, “the”, “is”, “are” and etc. Stop words are commonly used in Text Mining and NLP to eliminate words that are so commonly used that they carry very little useful information.\n",
        "\n",
        "\n",
        "Why do we remove stop words?\n",
        "\n",
        "It helps to remove the low-level information from our text in order to give more focus to the important information. Those words do not really contribute significant information to our model.\n",
        "\n",
        "\n",
        "Do we always remove stop words\n",
        "\n",
        "Not always. It highly depends on the use case. For example tasks like text classification do not generally need stop words as the other words present in the dataset are more important and give the general idea of the text. So, we generally remove stop words in such tasks.\n",
        "\n",
        "However, in task like sentiment analysis, you might want to maintain these stop words.\n",
        "\n",
        "For example, if we are training a model that can perform the sentiment analysis task, we might not remove the stop words.\n",
        "\n",
        "Movie review: “The movie was not good at all.”\n",
        "\n",
        "Text after removal of stop words: “movie good”\n",
        "\n",
        "We can clearly see that the review for the movie was negative. However, after the removal of stop words, the review became positive, which is not the reality. Thus, the removal of stop words can be problematic here."
      ],
      "metadata": {
        "id": "3r5t4dMYLtSF"
      }
    },
    {
      "cell_type": "markdown",
      "source": [
        "##Removing Stop words with Natural Language Toolkit (NLTK)"
      ],
      "metadata": {
        "id": "QU83xXONMo4W"
      }
    },
    {
      "cell_type": "code",
      "source": [
        "import nltk\n",
        "nltk.download('stopwords')\n",
        "from nltk.corpus import stopwords"
      ],
      "metadata": {
        "colab": {
          "base_uri": "https://localhost:8080/"
        },
        "id": "hVsi-NqvM2cj",
        "outputId": "c891aff2-de16-43b4-a8e3-a3aa8f465de9"
      },
      "execution_count": 1,
      "outputs": [
        {
          "output_type": "stream",
          "name": "stderr",
          "text": [
            "[nltk_data] Downloading package stopwords to /root/nltk_data...\n",
            "[nltk_data]   Unzipping corpora/stopwords.zip.\n"
          ]
        }
      ]
    },
    {
      "cell_type": "code",
      "source": [
        "sw_nltk = stopwords.words('english')\n",
        "print(sw_nltk)"
      ],
      "metadata": {
        "colab": {
          "base_uri": "https://localhost:8080/"
        },
        "id": "rIJbx-eMOlPY",
        "outputId": "701c7c5e-1e70-4680-cfdf-ce9ada4013aa"
      },
      "execution_count": 20,
      "outputs": [
        {
          "output_type": "stream",
          "name": "stdout",
          "text": [
            "['i', 'me', 'my', 'myself', 'we', 'our', 'ours', 'ourselves', 'you', \"you're\", \"you've\", \"you'll\", \"you'd\", 'your', 'yours', 'yourself', 'yourselves', 'he', 'him', 'his', 'himself', 'she', \"she's\", 'her', 'hers', 'herself', 'it', \"it's\", 'its', 'itself', 'they', 'them', 'their', 'theirs', 'themselves', 'what', 'which', 'who', 'whom', 'this', 'that', \"that'll\", 'these', 'those', 'am', 'is', 'are', 'was', 'were', 'be', 'been', 'being', 'have', 'has', 'had', 'having', 'do', 'does', 'did', 'doing', 'a', 'an', 'the', 'and', 'but', 'if', 'or', 'because', 'as', 'until', 'while', 'of', 'at', 'by', 'for', 'with', 'about', 'against', 'between', 'into', 'through', 'during', 'before', 'after', 'above', 'below', 'to', 'from', 'up', 'down', 'in', 'out', 'on', 'off', 'over', 'under', 'again', 'further', 'then', 'once', 'here', 'there', 'when', 'where', 'why', 'how', 'all', 'any', 'both', 'each', 'few', 'more', 'most', 'other', 'some', 'such', 'no', 'nor', 'not', 'only', 'own', 'same', 'so', 'than', 'too', 'very', 's', 't', 'can', 'will', 'just', 'don', \"don't\", 'should', \"should've\", 'now', 'd', 'll', 'm', 'o', 're', 've', 'y', 'ain', 'aren', \"aren't\", 'couldn', \"couldn't\", 'didn', \"didn't\", 'doesn', \"doesn't\", 'hadn', \"hadn't\", 'hasn', \"hasn't\", 'haven', \"haven't\", 'isn', \"isn't\", 'ma', 'mightn', \"mightn't\", 'mustn', \"mustn't\", 'needn', \"needn't\", 'shan', \"shan't\", 'shouldn', \"shouldn't\", 'wasn', \"wasn't\", 'weren', \"weren't\", 'won', \"won't\", 'wouldn', \"wouldn't\"]\n"
          ]
        }
      ]
    },
    {
      "cell_type": "markdown",
      "source": [
        "['i', 'me', 'my', 'myself', 'we', 'our', 'ours', 'ourselves', 'you', \"you're\", \"you've\", \"you'll\", \"you'd\", 'your', 'yours', 'yourself', 'yourselves', 'he', 'him', 'his', 'himself', 'she', \"she's\", 'her', 'hers', 'herself', 'it', \"it's\", 'its', 'itself', 'they', 'them', 'their', 'theirs', 'themselves', 'what', 'which', 'who', 'whom', 'this', 'that', \"that'll\", 'these', 'those', 'am', 'is', 'are', 'was', 'were', 'be', 'been', 'being', 'have', 'has', 'had', 'having', 'do', 'does', 'did', 'doing', 'a', 'an', 'the', 'and', 'but', 'if', 'or', 'because', 'as', 'until', 'while', 'of', 'at', 'by', 'for', 'with', 'about', 'against', 'between', 'into', 'through', 'during', 'before', 'after', 'above', 'below', 'to', 'from', 'up', 'down', 'in', 'out', 'on', 'off', 'over', 'under', 'again', 'further', 'then', 'once', 'here', 'there', 'when', 'where', 'why', 'how', 'all', 'any', 'both', 'each', 'few', 'more', 'most', 'other', 'some', 'such', 'no', 'nor', 'not', 'only', 'own', 'same', 'so', 'than', 'too', 'very', 's', 't', 'can', 'will', 'just', 'don', \"don't\", 'should', \"should've\", 'now', 'd', 'll', 'm', 'o', 're', 've', 'y', 'ain', 'aren', \"aren't\", 'couldn', \"couldn't\", 'didn', \"didn't\", 'doesn', \"doesn't\", 'hadn', \"hadn't\", 'hasn', \"hasn't\", 'haven', \"haven't\", 'isn', \"isn't\", 'ma', 'mightn', \"mightn't\", 'mustn', \"mustn't\", 'needn', \"needn't\", 'shan', \"shan't\", 'shouldn', \"shouldn't\", 'wasn', \"wasn't\", 'weren', \"weren't\", 'won', \"won't\", 'wouldn', \"wouldn't\"]\n"
      ],
      "metadata": {
        "id": "olnKkn0LPKZn"
      }
    },
    {
      "cell_type": "code",
      "source": [
        "print(len(sw_nltk))"
      ],
      "metadata": {
        "colab": {
          "base_uri": "https://localhost:8080/"
        },
        "id": "Wb6OGVIgO0np",
        "outputId": "982116fe-7e7d-4656-e5f1-382a916d0c67"
      },
      "execution_count": 21,
      "outputs": [
        {
          "output_type": "stream",
          "name": "stdout",
          "text": [
            "179\n"
          ]
        }
      ]
    },
    {
      "cell_type": "code",
      "source": [
        "text2 = \"Here's to the crazy ones, the misfits, the rebels, the troublemakers, the round pegs in the square holes.\""
      ],
      "metadata": {
        "id": "ihFMdM-HPN3O"
      },
      "execution_count": 4,
      "outputs": []
    },
    {
      "cell_type": "code",
      "source": [
        "words = [word for word in text2.split() if word.lower() not in sw ]\n",
        "new_text2 = \" \".join(words)\n",
        "print(new_text2)\n",
        "print(\"Old length: \", len(text2))\n",
        "print(\"New length: \", len(new_text2))"
      ],
      "metadata": {
        "colab": {
          "base_uri": "https://localhost:8080/"
        },
        "id": "73rBneUoPajt",
        "outputId": "a7090b50-3b8f-4124-c778-bce15e156659"
      },
      "execution_count": 7,
      "outputs": [
        {
          "output_type": "stream",
          "name": "stdout",
          "text": [
            "Here's crazy ones, misfits, rebels, troublemakers, round pegs square holes.\n",
            "Old length:  105\n",
            "New length:  75\n"
          ]
        }
      ]
    },
    {
      "cell_type": "markdown",
      "source": [
        "##Removing Stop words with spaCy\n"
      ],
      "metadata": {
        "id": "pG1e8v5IToVf"
      }
    },
    {
      "cell_type": "code",
      "source": [
        "import spacy\n",
        "#loading the english language small model of spacy\n",
        "en = spacy.load('en_core_web_sm')\n",
        "sw_spacy = en.Defaults.stop_words\n",
        "print(sw_spacy)"
      ],
      "metadata": {
        "colab": {
          "base_uri": "https://localhost:8080/"
        },
        "id": "ZREjaHh-TzWV",
        "outputId": "37ca5ab6-94ee-4ebe-fe56-0a9bc547ef1e"
      },
      "execution_count": 9,
      "outputs": [
        {
          "output_type": "stream",
          "name": "stdout",
          "text": [
            "{'thereupon', 'toward', 'amount', 'take', 'their', 'really', 'beside', 'on', \"'m\", 'us', 'somewhere', 'may', 'forty', 'under', 'along', 'by', 'towards', 'be', 'hereupon', 'ca', 'during', 'herself', 'upon', 'nobody', 'himself', 'without', 'get', 'whereafter', 'into', 'however', 'itself', 'i', 'it', 'thus', 'now', 'beyond', 'out', 'whom', 'we', 'down', 'alone', 'show', 'from', 'most', 'every', 'of', 'once', 'side', 'he', 'do', 'have', 'either', 'quite', 'as', 'front', 'cannot', 'yourselves', 'somehow', 'thence', \"'d\", 'amongst', '‘ve', 'off', 'became', 'anything', 'seem', 'hundred', 'nine', 'you', 'hereby', 'much', 'our', 'fifty', 'say', 'using', 'other', 'further', 'more', 'unless', 'all', 'hereafter', 'becomes', 'yours', 'never', 'fifteen', 'someone', 'whoever', 'at', 'can', 'formerly', 'made', 'third', 'several', 'being', 'already', 'are', 'meanwhile', 'throughout', 'each', 'what', 'no', 'regarding', 'least', 'a', 'then', 'own', 'whither', 'across', 'around', 'via', 'always', 'only', 'any', 'sixty', 'whereby', 'even', 'twenty', 'who', 'become', 'else', 'she', 'must', 'top', 'where', 'used', 'since', 'among', 'themselves', 'seemed', 'wherein', 'because', 'eleven', 'just', 'others', 'various', 'doing', 'seems', 'or', 'done', 'six', 'ours', 'therein', 'whereupon', \"'ll\", 'thereafter', 'therefore', 'twelve', 'otherwise', 'has', 'anyway', 'two', 'part', 'nothing', 'besides', 'within', 'ten', 'whence', 'before', 'behind', 'hence', 'again', 'between', \"'re\", '’re', 'perhaps', 'some', 'so', '‘m', 'until', 'would', 'yourself', 'also', 'anyhow', 'they', 'very', 'should', 'through', 'although', 'empty', 'last', 'one', 're', 'neither', 'many', 'moreover', 'serious', 'were', 'his', 'seeming', 'mostly', 'up', '’d', '‘re', 'nevertheless', 'anyone', \"'ve\", 'three', 'still', 'wherever', 'had', 'whereas', 'ever', 'below', '‘s', 'but', 'him', '‘ll', 'after', 'an', 'sometime', 'in', 'does', '’s', '’ve', 'why', 'namely', 'whether', 'well', 'is', 'please', 'whose', 'those', 'her', 'these', 'for', 'nowhere', 'anywhere', 'my', 'over', 'though', 'will', 'few', 'been', 'mine', 'call', 'see', 'name', '’m', 'four', 'five', 'afterwards', 'everywhere', 'to', 'about', 'none', 'this', \"'s\", 'not', 'against', 'enough', 'here', 'myself', 'your', 'latterly', 'them', 'elsewhere', 'per', '‘d', 'and', 'thru', 'give', 'almost', 'together', 'was', 'with', 'same', 'if', 'go', 'eight', 'that', 'both', 'indeed', 'noone', 'yet', 'herein', 'when', 'ourselves', '’ll', 'whenever', 'how', 'its', 'next', 'whatever', 'former', 'above', \"n't\", 'becoming', 'there', 'thereby', 'did', 'the', 'less', 'another', 'might', 'n‘t', 'me', 'first', 'often', 'keep', 'back', 'nor', 'too', 'am', 'except', 'bottom', 'whole', 'n’t', 'everyone', 'everything', 'could', 'while', 'full', 'rather', 'latter', 'make', 'than', 'onto', 'something', 'sometimes', 'move', 'hers', 'beforehand', 'due', 'such', 'put', 'which'}\n"
          ]
        }
      ]
    },
    {
      "cell_type": "markdown",
      "source": [
        "{'thereupon', 'toward', 'amount', 'take', 'their', 'really', 'beside', 'on', \"'m\", 'us', 'somewhere', 'may', 'forty', 'under', 'along', 'by', 'towards', 'be', 'hereupon', 'ca', 'during', 'herself', 'upon', 'nobody', 'himself', 'without', 'get', 'whereafter', 'into', 'however', 'itself', 'i', 'it', 'thus', 'now', 'beyond', 'out', 'whom', 'we', 'down', 'alone', 'show', 'from', 'most', 'every', 'of', 'once', 'side', 'he', 'do', 'have', 'either', 'quite', 'as', 'front', 'cannot', 'yourselves', 'somehow', 'thence', \"'d\", 'amongst', '‘ve', 'off', 'became', 'anything', 'seem', 'hundred', 'nine', 'you', 'hereby', 'much', 'our', 'fifty', 'say', 'using', 'other', 'further', 'more', 'unless', 'all', 'hereafter', 'becomes', 'yours', 'never', 'fifteen', 'someone', 'whoever', 'at', 'can', 'formerly', 'made', 'third', 'several', 'being', 'already', 'are', 'meanwhile', 'throughout', 'each', 'what', 'no', 'regarding', 'least', 'a', 'then', 'own', 'whither', 'across', 'around', 'via', 'always', 'only', 'any', 'sixty', 'whereby', 'even', 'twenty', 'who', 'become', 'else', 'she', 'must', 'top', 'where', 'used', 'since', 'among', 'themselves', 'seemed', 'wherein', 'because', 'eleven', 'just', 'others', 'various', 'doing', 'seems', 'or', 'done', 'six', 'ours', 'therein', 'whereupon', \"'ll\", 'thereafter', 'therefore', 'twelve', 'otherwise', 'has', 'anyway', 'two', 'part', 'nothing', 'besides', 'within', 'ten', 'whence', 'before', 'behind', 'hence', 'again', 'between', \"'re\", '’re', 'perhaps', 'some', 'so', '‘m', 'until', 'would', 'yourself', 'also', 'anyhow', 'they', 'very', 'should', 'through', 'although', 'empty', 'last', 'one', 're', 'neither', 'many', 'moreover', 'serious', 'were', 'his', 'seeming', 'mostly', 'up', '’d', '‘re', 'nevertheless', 'anyone', \"'ve\", 'three', 'still', 'wherever', 'had', 'whereas', 'ever', 'below', '‘s', 'but', 'him', '‘ll', 'after', 'an', 'sometime', 'in', 'does', '’s', '’ve', 'why', 'namely', 'whether', 'well', 'is', 'please', 'whose', 'those', 'her', 'these', 'for', 'nowhere', 'anywhere', 'my', 'over', 'though', 'will', 'few', 'been', 'mine', 'call', 'see', 'name', '’m', 'four', 'five', 'afterwards', 'everywhere', 'to', 'about', 'none', 'this', \"'s\", 'not', 'against', 'enough', 'here', 'myself', 'your', 'latterly', 'them', 'elsewhere', 'per', '‘d', 'and', 'thru', 'give', 'almost', 'together', 'was', 'with', 'same', 'if', 'go', 'eight', 'that', 'both', 'indeed', 'noone', 'yet', 'herein', 'when', 'ourselves', '’ll', 'whenever', 'how', 'its', 'next', 'whatever', 'former', 'above', \"n't\", 'becoming', 'there', 'thereby', 'did', 'the', 'less', 'another', 'might', 'n‘t', 'me', 'first', 'often', 'keep', 'back', 'nor', 'too', 'am', 'except', 'bottom', 'whole', 'n’t', 'everyone', 'everything', 'could', 'while', 'full', 'rather', 'latter', 'make', 'than', 'onto', 'something', 'sometimes', 'move', 'hers', 'beforehand', 'due', 'such', 'put', 'which'}\n"
      ],
      "metadata": {
        "id": "uOCI_HYUUK2M"
      }
    },
    {
      "cell_type": "code",
      "source": [
        "print(len(sw_spacy))"
      ],
      "metadata": {
        "colab": {
          "base_uri": "https://localhost:8080/"
        },
        "id": "dls9VkirUC0N",
        "outputId": "da7cd65c-f1e0-43e8-ff3d-06a805998de3"
      },
      "execution_count": 10,
      "outputs": [
        {
          "output_type": "stream",
          "name": "stdout",
          "text": [
            "326\n"
          ]
        }
      ]
    },
    {
      "cell_type": "code",
      "source": [
        "words = [word for word in text2.split() if word.lower() not in sw_spacy]\n",
        "new_text2 = \" \".join(words)\n",
        "print(new_text2)\n",
        "print(f\"Old length {len(text2)}\")\n",
        "print(f\"New length {len(new_text2)}\")"
      ],
      "metadata": {
        "colab": {
          "base_uri": "https://localhost:8080/"
        },
        "id": "6Jw6xs_QUOEr",
        "outputId": "ba7237cf-b74c-4990-ec2d-e09aedfde548"
      },
      "execution_count": 12,
      "outputs": [
        {
          "output_type": "stream",
          "name": "stdout",
          "text": [
            "Here's crazy ones, misfits, rebels, troublemakers, round pegs square holes.\n",
            "Old length 105\n",
            "New length 75\n"
          ]
        }
      ]
    },
    {
      "cell_type": "markdown",
      "source": [
        "##Removing Stop words with Ginsim\n"
      ],
      "metadata": {
        "id": "KCse-5MDVzkH"
      }
    },
    {
      "cell_type": "code",
      "source": [
        "import gensim\n",
        "from gensim.parsing.preprocessing import remove_stopwords, STOPWORDS\n",
        "print(STOPWORDS)"
      ],
      "metadata": {
        "id": "KirlYEIRVKlZ"
      },
      "execution_count": null,
      "outputs": []
    },
    {
      "cell_type": "code",
      "source": [
        "import gensim\n",
        "from gensim.parsing.preprocessing import remove_stopwords, STOPWORDS\n",
        "print(STOPWORDS)"
      ],
      "metadata": {
        "colab": {
          "base_uri": "https://localhost:8080/"
        },
        "id": "HDTjbX_-V3sp",
        "outputId": "b32df020-c231-4091-e95d-c3a56fcf12ec"
      },
      "execution_count": 14,
      "outputs": [
        {
          "output_type": "stream",
          "name": "stdout",
          "text": [
            "frozenset({'thereupon', 'toward', 'amount', 'take', 'their', 'really', 'beside', 'on', 'us', 'etc', 'somewhere', 'may', 'forty', 'under', 'along', 'by', 'towards', 'be', 'hereupon', 'during', 'herself', 'upon', 'nobody', 'himself', 'without', 'get', 'whereafter', 'into', 'however', 'itself', 'i', 'it', 'thus', 'now', 'beyond', 'out', 'whom', 'sincere', 'we', 'down', 'alone', 'show', 'from', 'most', 'every', 'of', 'once', 'side', 'he', 'do', 'have', 'either', 'quite', 'as', 'mill', 'front', 'cannot', 'yourselves', 'somehow', 'thence', 'thick', 'amongst', 'off', 'became', 'anything', 'seem', 'bill', 'hundred', 'nine', 'you', 'kg', 'hereby', 'much', 'our', 'fifty', 'say', 'using', 'other', 'further', 'more', 'unless', 'all', 'hereafter', 'becomes', 'yours', 'never', 'fifteen', 'found', 'someone', 'whoever', 'at', 'can', 'formerly', 'made', 'third', 'several', 'being', 'already', 'are', 'meanwhile', 'throughout', 'each', 'what', 'no', 'regarding', 'least', 'a', 'then', 'detail', 'own', 'whither', 'across', 'around', 'via', 'always', 'only', 'sixty', 'any', 'whereby', 'even', 'twenty', 'ie', 'who', 'become', 'else', 'system', 'she', 'must', 'top', 'amoungst', 'cry', 'where', 'used', 'since', 'among', 'themselves', 'seemed', 'wherein', 'computer', 'because', 'various', 'just', 'others', 'eleven', 'doing', 'seems', 'or', 'done', 'six', 'ours', 'therein', 'whereupon', 'thereafter', 'therefore', 'twelve', 'otherwise', 'has', 'anyway', 'don', 'two', 'part', 'nothing', 'besides', 'within', 'ten', 'whence', 'before', 'behind', 'hence', 'again', 'between', 'perhaps', 'some', 'so', 'until', 'would', 'yourself', 'km', 'anyhow', 'also', 'they', 'very', 'should', 'through', 'although', 'eg', 'empty', 'thin', 'find', 'hasnt', 'last', 'one', 're', 'cant', 'describe', 'neither', 'couldnt', 'many', 'moreover', 'serious', 'were', 'his', 'seeming', 'mostly', 'up', 'nevertheless', 'anyone', 'ltd', 'three', 'con', 'still', 'wherever', 'had', 'whereas', 'ever', 'below', 'but', 'him', 'after', 'an', 'sometime', 'in', 'does', 'un', 'why', 'namely', 'whether', 'well', 'whose', 'please', 'is', 'those', 'her', 'these', 'for', 'nowhere', 'inc', 'anywhere', 'my', 'over', 'will', 'though', 'fire', 'few', 'been', 'mine', 'call', 'see', 'name', 'four', 'five', 'afterwards', 'everywhere', 'to', 'co', 'about', 'none', 'this', 'not', 'against', 'enough', 'here', 'myself', 'your', 'latterly', 'them', 'elsewhere', 'per', 'and', 'thru', 'give', 'almost', 'together', 'was', 'with', 'same', 'if', 'go', 'eight', 'that', 'both', 'indeed', 'noone', 'yet', 'herein', 'de', 'when', 'ourselves', 'whenever', 'didn', 'how', 'fill', 'its', 'next', 'whatever', 'former', 'above', 'becoming', 'there', 'thereby', 'did', 'the', 'less', 'another', 'might', 'interest', 'me', 'first', 'often', 'keep', 'back', 'nor', 'too', 'doesn', 'except', 'am', 'bottom', 'whole', 'everything', 'everyone', 'could', 'while', 'full', 'rather', 'latter', 'make', 'than', 'onto', 'something', 'sometimes', 'move', 'hers', 'due', 'beforehand', 'such', 'put', 'which'})\n"
          ]
        }
      ]
    },
    {
      "cell_type": "markdown",
      "source": [
        "frozenset({'thereupon', 'toward', 'amount', 'take', 'their', 'really', 'beside', 'on', 'us', 'etc', 'somewhere', 'may', 'forty', 'under', 'along', 'by', 'towards', 'be', 'hereupon', 'during', 'herself', 'upon', 'nobody', 'himself', 'without', 'get', 'whereafter', 'into', 'however', 'itself', 'i', 'it', 'thus', 'now', 'beyond', 'out', 'whom', 'sincere', 'we', 'down', 'alone', 'show', 'from', 'most', 'every', 'of', 'once', 'side', 'he', 'do', 'have', 'either', 'quite', 'as', 'mill', 'front', 'cannot', 'yourselves', 'somehow', 'thence', 'thick', 'amongst', 'off', 'became', 'anything', 'seem', 'bill', 'hundred', 'nine', 'you', 'kg', 'hereby', 'much', 'our', 'fifty', 'say', 'using', 'other', 'further', 'more', 'unless', 'all', 'hereafter', 'becomes', 'yours', 'never', 'fifteen', 'found', 'someone', 'whoever', 'at', 'can', 'formerly', 'made', 'third', 'several', 'being', 'already', 'are', 'meanwhile', 'throughout', 'each', 'what', 'no', 'regarding', 'least', 'a', 'then', 'detail', 'own', 'whither', 'across', 'around', 'via', 'always', 'only', 'sixty', 'any', 'whereby', 'even', 'twenty', 'ie', 'who', 'become', 'else', 'system', 'she', 'must', 'top', 'amoungst', 'cry', 'where', 'used', 'since', 'among', 'themselves', 'seemed', 'wherein', 'computer', 'because', 'various', 'just', 'others', 'eleven', 'doing', 'seems', 'or', 'done', 'six', 'ours', 'therein', 'whereupon', 'thereafter', 'therefore', 'twelve', 'otherwise', 'has', 'anyway', 'don', 'two', 'part', 'nothing', 'besides', 'within', 'ten', 'whence', 'before', 'behind', 'hence', 'again', 'between', 'perhaps', 'some', 'so', 'until', 'would', 'yourself', 'km', 'anyhow', 'also', 'they', 'very', 'should', 'through', 'although', 'eg', 'empty', 'thin', 'find', 'hasnt', 'last', 'one', 're', 'cant', 'describe', 'neither', 'couldnt', 'many', 'moreover', 'serious', 'were', 'his', 'seeming', 'mostly', 'up', 'nevertheless', 'anyone', 'ltd', 'three', 'con', 'still', 'wherever', 'had', 'whereas', 'ever', 'below', 'but', 'him', 'after', 'an', 'sometime', 'in', 'does', 'un', 'why', 'namely', 'whether', 'well', 'whose', 'please', 'is', 'those', 'her', 'these', 'for', 'nowhere', 'inc', 'anywhere', 'my', 'over', 'will', 'though', 'fire', 'few', 'been', 'mine', 'call', 'see', 'name', 'four', 'five', 'afterwards', 'everywhere', 'to', 'co', 'about', 'none', 'this', 'not', 'against', 'enough', 'here', 'myself', 'your', 'latterly', 'them', 'elsewhere', 'per', 'and', 'thru', 'give', 'almost', 'together', 'was', 'with', 'same', 'if', 'go', 'eight', 'that', 'both', 'indeed', 'noone', 'yet', 'herein', 'de', 'when', 'ourselves', 'whenever', 'didn', 'how', 'fill', 'its', 'next', 'whatever', 'former', 'above', 'becoming', 'there', 'thereby', 'did', 'the', 'less', 'another', 'might', 'interest', 'me', 'first', 'often', 'keep', 'back', 'nor', 'too', 'doesn', 'except', 'am', 'bottom', 'whole', 'everything', 'everyone', 'could', 'while', 'full', 'rather', 'latter', 'make', 'than', 'onto', 'something', 'sometimes', 'move', 'hers', 'due', 'beforehand', 'such', 'put', 'which'})\n"
      ],
      "metadata": {
        "id": "7KLdYwZEWIjX"
      }
    },
    {
      "cell_type": "code",
      "source": [
        "print(len(STOPWORDS))"
      ],
      "metadata": {
        "colab": {
          "base_uri": "https://localhost:8080/"
        },
        "id": "GD1yOkKvWDTR",
        "outputId": "2e3b5634-7559-4685-89cf-f1941fa1e733"
      },
      "execution_count": 15,
      "outputs": [
        {
          "output_type": "stream",
          "name": "stdout",
          "text": [
            "337\n"
          ]
        }
      ]
    },
    {
      "cell_type": "code",
      "source": [
        "new_text = remove_stopwords(text2)\n",
        "print(new_text)\n",
        "print(f\"Old length {len(text2)}\")\n",
        "print(f\"New Length {len(new_text)}\")"
      ],
      "metadata": {
        "colab": {
          "base_uri": "https://localhost:8080/"
        },
        "id": "tTOggxGNWPif",
        "outputId": "0cec36eb-6202-497b-f96f-cdc8beb8c5dd"
      },
      "execution_count": 16,
      "outputs": [
        {
          "output_type": "stream",
          "name": "stdout",
          "text": [
            "Here's crazy ones, misfits, rebels, troublemakers, round pegs square holes.\n",
            "Old length 105\n",
            "New Length 75\n"
          ]
        }
      ]
    },
    {
      "cell_type": "markdown",
      "source": [
        "##Removing Stop words with Scikit-Learn"
      ],
      "metadata": {
        "id": "hBsLPX56XIOK"
      }
    },
    {
      "cell_type": "code",
      "source": [
        "from sklearn.feature_extraction.text import ENGLISH_STOP_WORDS\n",
        "print(ENGLISH_STOP_WORDS)"
      ],
      "metadata": {
        "colab": {
          "base_uri": "https://localhost:8080/"
        },
        "id": "3FfNXBdqXUoF",
        "outputId": "a10c9f6e-8366-47ae-d2c6-458889ccb6c1"
      },
      "execution_count": 17,
      "outputs": [
        {
          "output_type": "stream",
          "name": "stdout",
          "text": [
            "frozenset({'thereupon', 'toward', 'amount', 'take', 'their', 'beside', 'on', 'us', 'etc', 'somewhere', 'may', 'forty', 'under', 'along', 'by', 'towards', 'be', 'hereupon', 'during', 'herself', 'upon', 'nobody', 'himself', 'without', 'get', 'whereafter', 'into', 'however', 'itself', 'i', 'it', 'thus', 'now', 'beyond', 'out', 'whom', 'sincere', 'we', 'down', 'alone', 'show', 'from', 'most', 'every', 'of', 'once', 'side', 'he', 'do', 'have', 'either', 'as', 'mill', 'front', 'cannot', 'yourselves', 'somehow', 'thence', 'thick', 'amongst', 'off', 'became', 'anything', 'seem', 'bill', 'hundred', 'nine', 'you', 'hereby', 'much', 'our', 'fifty', 'other', 'further', 'more', 'all', 'hereafter', 'becomes', 'yours', 'never', 'fifteen', 'found', 'someone', 'whoever', 'at', 'can', 'formerly', 'made', 'third', 'several', 'being', 'already', 'are', 'meanwhile', 'throughout', 'each', 'what', 'no', 'least', 'a', 'then', 'detail', 'own', 'whither', 'across', 'around', 'via', 'always', 'only', 'any', 'sixty', 'whereby', 'even', 'twenty', 'ie', 'who', 'become', 'else', 'system', 'she', 'must', 'top', 'amoungst', 'cry', 'where', 'since', 'among', 'themselves', 'seemed', 'wherein', 'because', 'eleven', 'others', 'seems', 'or', 'done', 'six', 'ours', 'therein', 'whereupon', 'thereafter', 'therefore', 'twelve', 'otherwise', 'has', 'anyway', 'two', 'part', 'nothing', 'besides', 'within', 'ten', 'whence', 'before', 'behind', 'hence', 'again', 'between', 'perhaps', 'some', 'so', 'until', 'would', 'yourself', 'also', 'anyhow', 'they', 'very', 'should', 'through', 'although', 'eg', 'empty', 'thin', 'find', 'hasnt', 'last', 'cant', 'one', 're', 'describe', 'neither', 'couldnt', 'many', 'moreover', 'serious', 'were', 'his', 'seeming', 'mostly', 'up', 'nevertheless', 'anyone', 'ltd', 'three', 'con', 'still', 'wherever', 'had', 'whereas', 'ever', 'below', 'but', 'him', 'after', 'an', 'sometime', 'in', 'un', 'why', 'namely', 'whether', 'well', 'is', 'please', 'whose', 'those', 'her', 'these', 'for', 'nowhere', 'inc', 'anywhere', 'my', 'over', 'though', 'will', 'fire', 'few', 'been', 'mine', 'call', 'see', 'name', 'four', 'five', 'afterwards', 'everywhere', 'to', 'co', 'about', 'none', 'this', 'not', 'against', 'enough', 'here', 'myself', 'your', 'latterly', 'them', 'elsewhere', 'per', 'and', 'thru', 'give', 'almost', 'together', 'was', 'with', 'same', 'if', 'go', 'eight', 'that', 'both', 'indeed', 'noone', 'yet', 'herein', 'de', 'when', 'ourselves', 'whenever', 'how', 'fill', 'its', 'next', 'whatever', 'former', 'above', 'becoming', 'there', 'thereby', 'the', 'less', 'another', 'might', 'interest', 'me', 'first', 'often', 'keep', 'back', 'nor', 'too', 'am', 'except', 'bottom', 'whole', 'everyone', 'everything', 'could', 'while', 'full', 'rather', 'latter', 'than', 'onto', 'something', 'sometimes', 'move', 'hers', 'beforehand', 'due', 'such', 'put', 'which'})\n"
          ]
        }
      ]
    },
    {
      "cell_type": "markdown",
      "source": [
        "frozenset({'thereupon', 'toward', 'amount', 'take', 'their', 'beside', 'on', 'us', 'etc', 'somewhere', 'may', 'forty', 'under', 'along', 'by', 'towards', 'be', 'hereupon', 'during', 'herself', 'upon', 'nobody', 'himself', 'without', 'get', 'whereafter', 'into', 'however', 'itself', 'i', 'it', 'thus', 'now', 'beyond', 'out', 'whom', 'sincere', 'we', 'down', 'alone', 'show', 'from', 'most', 'every', 'of', 'once', 'side', 'he', 'do', 'have', 'either', 'as', 'mill', 'front', 'cannot', 'yourselves', 'somehow', 'thence', 'thick', 'amongst', 'off', 'became', 'anything', 'seem', 'bill', 'hundred', 'nine', 'you', 'hereby', 'much', 'our', 'fifty', 'other', 'further', 'more', 'all', 'hereafter', 'becomes', 'yours', 'never', 'fifteen', 'found', 'someone', 'whoever', 'at', 'can', 'formerly', 'made', 'third', 'several', 'being', 'already', 'are', 'meanwhile', 'throughout', 'each', 'what', 'no', 'least', 'a', 'then', 'detail', 'own', 'whither', 'across', 'around', 'via', 'always', 'only', 'any', 'sixty', 'whereby', 'even', 'twenty', 'ie', 'who', 'become', 'else', 'system', 'she', 'must', 'top', 'amoungst', 'cry', 'where', 'since', 'among', 'themselves', 'seemed', 'wherein', 'because', 'eleven', 'others', 'seems', 'or', 'done', 'six', 'ours', 'therein', 'whereupon', 'thereafter', 'therefore', 'twelve', 'otherwise', 'has', 'anyway', 'two', 'part', 'nothing', 'besides', 'within', 'ten', 'whence', 'before', 'behind', 'hence', 'again', 'between', 'perhaps', 'some', 'so', 'until', 'would', 'yourself', 'also', 'anyhow', 'they', 'very', 'should', 'through', 'although', 'eg', 'empty', 'thin', 'find', 'hasnt', 'last', 'cant', 'one', 're', 'describe', 'neither', 'couldnt', 'many', 'moreover', 'serious', 'were', 'his', 'seeming', 'mostly', 'up', 'nevertheless', 'anyone', 'ltd', 'three', 'con', 'still', 'wherever', 'had', 'whereas', 'ever', 'below', 'but', 'him', 'after', 'an', 'sometime', 'in', 'un', 'why', 'namely', 'whether', 'well', 'is', 'please', 'whose', 'those', 'her', 'these', 'for', 'nowhere', 'inc', 'anywhere', 'my', 'over', 'though', 'will', 'fire', 'few', 'been', 'mine', 'call', 'see', 'name', 'four', 'five', 'afterwards', 'everywhere', 'to', 'co', 'about', 'none', 'this', 'not', 'against', 'enough', 'here', 'myself', 'your', 'latterly', 'them', 'elsewhere', 'per', 'and', 'thru', 'give', 'almost', 'together', 'was', 'with', 'same', 'if', 'go', 'eight', 'that', 'both', 'indeed', 'noone', 'yet', 'herein', 'de', 'when', 'ourselves', 'whenever', 'how', 'fill', 'its', 'next', 'whatever', 'former', 'above', 'becoming', 'there', 'thereby', 'the', 'less', 'another', 'might', 'interest', 'me', 'first', 'often', 'keep', 'back', 'nor', 'too', 'am', 'except', 'bottom', 'whole', 'everyone', 'everything', 'could', 'while', 'full', 'rather', 'latter', 'than', 'onto', 'something', 'sometimes', 'move', 'hers', 'beforehand', 'due', 'such', 'put', 'which'})\n"
      ],
      "metadata": {
        "id": "z4GPbGhwXdvy"
      }
    },
    {
      "cell_type": "code",
      "source": [
        "print(len(ENGLISH_STOP_WORDS))"
      ],
      "metadata": {
        "colab": {
          "base_uri": "https://localhost:8080/"
        },
        "id": "n17J7X-RXbnm",
        "outputId": "7bcb9b91-eac5-4388-a383-77fe4a897541"
      },
      "execution_count": 18,
      "outputs": [
        {
          "output_type": "stream",
          "name": "stdout",
          "text": [
            "318\n"
          ]
        }
      ]
    },
    {
      "cell_type": "code",
      "source": [
        "words = [word for word in text2.split() if word.lower() not in ENGLISH_STOP_WORDS]\n",
        "new_text2 = \" \".join(words)\n",
        "print(new_text2)\n",
        "print(f\"Old length {len(text2)}\")\n",
        "print(f\"New length {len(new_text2)}\")"
      ],
      "metadata": {
        "colab": {
          "base_uri": "https://localhost:8080/"
        },
        "id": "6D4NpRIRXh9E",
        "outputId": "a19830d5-fbf1-41c3-9868-2d2ad50f58a1"
      },
      "execution_count": 19,
      "outputs": [
        {
          "output_type": "stream",
          "name": "stdout",
          "text": [
            "Here's crazy ones, misfits, rebels, troublemakers, round pegs square holes.\n",
            "Old length 105\n",
            "New length 75\n"
          ]
        }
      ]
    },
    {
      "cell_type": "markdown",
      "source": [],
      "metadata": {
        "id": "QDTb0BbLcUXp"
      }
    },
    {
      "cell_type": "markdown",
      "source": [
        "## Adding custom Stop Words"
      ],
      "metadata": {
        "id": "wOh6YWEtcUBM"
      }
    },
    {
      "cell_type": "markdown",
      "source": [
        "You can also add custom stop words to the list of stop words available in these libraries to serve our purpose.\n",
        "\n",
        "Here is the code to add some custom stop words to NLTK’s stop words list:"
      ],
      "metadata": {
        "id": "n5S758qicYBS"
      }
    },
    {
      "cell_type": "code",
      "source": [
        "sw_nltk.extend(['first', 'second', 'third', 'me'])\n",
        "print(len(sw_nltk))"
      ],
      "metadata": {
        "id": "poYBHRvYYbEz"
      },
      "execution_count": null,
      "outputs": []
    },
    {
      "cell_type": "code",
      "source": [
        "sw_nltk.extend(['first', 'second','third','me'])\n",
        "print(len(sw_nltk))"
      ],
      "metadata": {
        "colab": {
          "base_uri": "https://localhost:8080/"
        },
        "id": "NlWLlezwcioB",
        "outputId": "8cde733e-ee6a-4019-b73b-bef7bcf24b68"
      },
      "execution_count": 22,
      "outputs": [
        {
          "output_type": "stream",
          "name": "stdout",
          "text": [
            "183\n"
          ]
        }
      ]
    },
    {
      "cell_type": "markdown",
      "source": [],
      "metadata": {
        "id": "7RyuXnsvdELa"
      }
    },
    {
      "cell_type": "markdown",
      "source": [
        "##Removing Stop Words"
      ],
      "metadata": {
        "id": "TLBmRHuQdD1Z"
      }
    },
    {
      "cell_type": "markdown",
      "source": [
        "You can also remove stop words from the list available in these libraries.\n",
        "\n",
        "Here is the code using the NLTK library:"
      ],
      "metadata": {
        "id": "E0FCQbi1dHTe"
      }
    },
    {
      "cell_type": "code",
      "source": [
        "\n",
        "sw_nltk.remove('not')\n",
        "print(len(sw_nltk))"
      ],
      "metadata": {
        "id": "GAM67hGZc7HK"
      },
      "execution_count": null,
      "outputs": []
    },
    {
      "cell_type": "code",
      "source": [
        "sw_nltk.remove('not')\n",
        "print(len(sw_nltk))"
      ],
      "metadata": {
        "colab": {
          "base_uri": "https://localhost:8080/"
        },
        "id": "WlCKB9GxdL6Z",
        "outputId": "6f863b4f-a0a9-4f4e-c3be-c186156f5b48"
      },
      "execution_count": 23,
      "outputs": [
        {
          "output_type": "stream",
          "name": "stdout",
          "text": [
            "182\n"
          ]
        }
      ]
    },
    {
      "cell_type": "markdown",
      "source": [
        "##Create Custom Stop Words"
      ],
      "metadata": {
        "id": "mtet-AU7dX9f"
      }
    },
    {
      "cell_type": "code",
      "source": [
        "text2 = \"Here's to the crazy ones, the misfits, the rebels, the troublemakers, the round pegs in the square holes.\""
      ],
      "metadata": {
        "id": "FIgnouBvdQAa"
      },
      "execution_count": 24,
      "outputs": []
    },
    {
      "cell_type": "code",
      "source": [
        "#create your custom stop words list\n",
        "\n",
        "my_stop_words = ['to','the','in']\n",
        "words = [word for word in text2.split() if word.lower() not in my_stop_words]\n",
        "new_text = \" \".join(words)\n",
        "print(new_text)\n",
        "print(f\"Old length {len(text2)}\")\n",
        "print(f\"New length {len(new_text)}\")"
      ],
      "metadata": {
        "colab": {
          "base_uri": "https://localhost:8080/"
        },
        "id": "4Q35XDsedf4C",
        "outputId": "6000bb5d-6ff7-450b-a2c5-dcedb21ccd8f"
      },
      "execution_count": 27,
      "outputs": [
        {
          "output_type": "stream",
          "name": "stdout",
          "text": [
            "Here's crazy ones, misfits, rebels, troublemakers, round pegs square holes.\n",
            "Old length 105\n",
            "New length 75\n"
          ]
        }
      ]
    },
    {
      "cell_type": "code",
      "source": [],
      "metadata": {
        "id": "r7eFJWMsd-YT"
      },
      "execution_count": null,
      "outputs": []
    }
  ]
}